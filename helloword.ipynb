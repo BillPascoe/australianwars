{
 "cells": [
  {
   "cell_type": "code",
   "execution_count": 1,
   "id": "3ecf472e-96f3-442c-ac0e-1ea3d1475778",
   "metadata": {},
   "outputs": [
    {
     "name": "stdout",
     "output_type": "stream",
     "text": [
      "Hello world\n"
     ]
    }
   ],
   "source": [
    "print('Hello world')\n",
    "import numpy\n",
    "import pandas as pd\n",
    "import folium as fm\n",
    "import geojikuu as gj\n",
    "import geopandas as gpd\n",
    "from geojikuu.preprocessing.projection import MGA2020Projector\n",
    "print(numpy.__version__)\n",
    "print(pd.__version__)\n",
    "print(fm.__version__)\n",
    "print(gpd.__version__)\n",
    "numpy.random.randn()\n",
    "file_path = 'test.csv'\n",
    "df_initial = pd.read_csv(file_path)\n",
    "display(df_initial)\n",
    "\n"
   ]
  }
 ],
 "metadata": {
  "kernelspec": {
   "display_name": "Python 3 (ipykernel)",
   "language": "python",
   "name": "python3"
  },
  "language_info": {
   "codemirror_mode": {
    "name": "ipython",
    "version": 3
   },
   "file_extension": ".py",
   "mimetype": "text/x-python",
   "name": "python",
   "nbconvert_exporter": "python",
   "pygments_lexer": "ipython3",
   "version": "3.10.8"
  }
 },
 "nbformat": 4,
 "nbformat_minor": 5
}
