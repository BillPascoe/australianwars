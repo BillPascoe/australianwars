{
 "cells": [
  {
   "cell_type": "markdown",
   "id": "52beb887-c6e2-4486-bdda-a63189c25409",
   "metadata": {},
   "source": [
    "<h1>Identified Australian Wars and Resistance</h1>\n",
    "(c) Bill Pascoe and Kaine Usher, 2025"
   ]
  },
  {
   "cell_type": "markdown",
   "id": "c81e8275-6c48-45f5-b62d-68f1bce46127",
   "metadata": {},
   "source": [
    "For important information on how to understand this notebook, see the Introduction <a href=\"AWR_Introduction.ipynb\">AWR_Introduction.ipynb</a>.\n",
    "\n",
    "This notebook reads in a file of adjusted data on Australian Wars and Resistance prior to the 1930s, including clustering results and produces maps of:\n",
    "\n",
    "- stages within wars\n",
    "- wars\n",
    "- regions within which wars occurred\n",
    "- periods within which regions were at war\n",
    "\n",
    "This file is the result of careful observation of results from statio-temporal distance based and k-nearest neighbour clustering methods. This method uses massacres to identify periods of intense conflict that can be regarded as a 'war'. However, many other factors are relevant to wars, so this method can be expected to be roughly accurate but require some adjustment.\n",
    "\n",
    "Each site was reviewed by Dr Bill Pascoe, who has been working the massacre data for 8 years, to check whether:\n",
    "\n",
    "- the clusters distinguished by automated methods made sense as wars from his knowledge of historical sources and transmitted Indigenous knowledge\n",
    "- whether each site should be in the cluster identified\n",
    "\n",
    "If not, appropriate changes were made. The clustering method proved generally effective in identifying wars with only slight adjustments and corrections needed.\n",
    "\n",
    "For example, different thresholds result in differently sized clusters in different parts of the country, so clusters identified at different thresholds were selected for different regions. In some cases sites there were outliers and removed from a cluster. For example a massacre happening a decade or more after nearby sites would not have skewed the cluster or war to a very late end date, and not appropriately represented the period of greatest intensity of conflict in that region, though that massacre remains an important part of history. In other cases, clusters could not take into account factors like the Great Dividing Range seperating peoples and sphere's of activity, or yet other cases where massacres did involve people and events across such divides, because the range was used strategically and tactically.\n",
    "\n",
    "This reviewed and adjusted data contains groupings at several scales:\n",
    "\n",
    "- Stages: These are stages within a war and are important for understanding the ebb and flow of the war, such as a war starting in one region and ending in another.\n",
    "- War: These can be understood as distinct wars, for example involving the same peoples, in the same region over a distinct period of time. Wars are often closely related to each other, but to understand them as connected we must first understand them as distinct.\n",
    "- Regions: These wars happened within broader regions, such as the Kimberley, or the gulf Country, or the East Coast.\n",
    "- Periods: There are distinct overall periods or phases (early, south, north and late).\n",
    "\n",
    "The names used for each of these groupings are only temporary working terms related to the location they are in. The naming of these wars needs to be considered with the involvement of Aboriginal and Torres Strait Islander people. \n",
    "\n",
    "At this early stage, while there are no clear and fixed boundaries, massacres indicate the extent of open mortal violence across country, and a minimal start and end date for each war. Massacres are only a part of the story. It is expected that the extent of wars will be adjusted in response to further information, and that other events are already, or will come to be regarded as signalling the 'start' or 'end' of war. \n",
    "\n",
    "These points may be debated for years or decades to come, but it is important to have identified a kernel of each war (indicated by these clusters of extreme violence in the form of massacres) as a basis from which to improve our knowledge of history. "
   ]
  },
  {
   "cell_type": "markdown",
   "id": "41794bd3-b4af-4677-8309-a15c0bdeb95f",
   "metadata": {},
   "source": [
    "<h3>Parameter Selection</h3>"
   ]
  },
  {
   "cell_type": "code",
   "execution_count": null,
   "id": "fd1daf5a-3674-474e-8e6b-4867f8947c29",
   "metadata": {},
   "outputs": [],
   "source": [
    "# Enter file path of dataset:\n",
    "file_path = \"MassacresInAustralianWars.csv\"\n"
   ]
  },
  {
   "cell_type": "code",
   "execution_count": null,
   "id": "edc02bf1-f7c2-4a76-965e-35ff5c581d89",
   "metadata": {},
   "outputs": [],
   "source": [
    "# this setting enables displaying output multiple times in one cell, such as when looping, instead of just the last call.\n",
    "from IPython.core.interactiveshell import InteractiveShell  \n",
    "InteractiveShell.ast_node_interactivity = \"all\" "
   ]
  },
  {
   "cell_type": "markdown",
   "id": "ade65ca3-a8cd-4c7a-877a-541be4e5660d",
   "metadata": {},
   "source": [
    "<h3>Prepare Data</h3>"
   ]
  },
  {
   "cell_type": "markdown",
   "id": "8c90de22-d137-447d-8581-42d0dc5fdd60",
   "metadata": {},
   "source": []
  },
  {
   "cell_type": "code",
   "execution_count": null,
   "id": "1a5eed28-af3e-4a96-8500-cf579e1105bd",
   "metadata": {},
   "outputs": [],
   "source": [
    "import pandas as pd\n",
    "df_initial = pd.read_csv(file_path)\n",
    "\n",
    "#df = df_initial.drop([\"Narrative\", \"Sources\", \"Group\", \"Linkback\"], axis=1)\n",
    "df = df_initial.filter([\"ghap_id\", \"title\", \"description\", \"latitude\", \"longitude\", \"datestart\", \"dateend\", \"linkback\", \"Victims\", \"VictimsDead\", \"Attackers\", \"AttackersDead\", \"MassacreGroup\", \"KNN1\", \"War\", \"Stage\", \"Region\", \"Period\"], axis=1)\n",
    "\n",
    "df[\"ghap_id\"] = df[\"ghap_id\"].astype(str)\n",
    "\n",
    "from geojikuu.preprocessing.projection import MGA2020Projector\n",
    "mga_2020_projector = MGA2020Projector(\"wgs84\")\n",
    "results = mga_2020_projector.project(list(zip(df[\"latitude\"], df[\"longitude\"])))\n",
    "df[\"mga_2020\"] = results[\"mga2020_coordinates\"]\n",
    "unit_conversion = results[\"unit_conversion\"]\n",
    "\n",
    "from geojikuu.preprocessing.conversion_tools import DateConvertor\n",
    "date_convertor = DateConvertor(date_format_in=\"%Y-%m-%d\", date_format_out=\"%Y-%m-%d\")\n",
    "df['date_converted'] = df['datestart'].apply(date_convertor.date_to_days)\n"
   ]
  },
  {
   "cell_type": "code",
   "execution_count": null,
   "id": "30887132-0e17-431f-a5c0-8895aed4c8af",
   "metadata": {},
   "outputs": [],
   "source": [
    "import geopandas\n"
   ]
  },
  {
   "cell_type": "markdown",
   "id": "a6809b90-df22-4db7-a8da-5d234f204940",
   "metadata": {},
   "source": [
    "<h3>Output</h3>"
   ]
  },
  {
   "cell_type": "markdown",
   "id": "387765d4-c87d-4f41-8c63-a3481a9c28c7",
   "metadata": {},
   "source": [
    "<h4>Methods For Cluster Summary</h4>"
   ]
  },
  {
   "cell_type": "code",
   "execution_count": null,
   "id": "52bb812e-0b62-4035-a6e8-8284ff630982",
   "metadata": {},
   "outputs": [],
   "source": [
    "# This should be refactored. You'd want to just form the cluster once, then get all these properties off the one object\n",
    "# but it works, and right now getting the results urgently is more important than perfect code.\n",
    "\n",
    "def getConvexHull(bycol, id, polygononly):\n",
    "    ## query df_initial for assigned_cluster = id, and make into list, and make into convex hull and add to summary\n",
    "    cluster = df_initial[df_initial[bycol] == id]\n",
    "\n",
    "    # temporarily use geopandas to create a 'geometry' from the coordinates in this cluster so we can call the convexhull method on it\n",
    "    gdf = geopandas.GeoDataFrame(\n",
    "        cluster, geometry=geopandas.points_from_xy(cluster.longitude, cluster.latitude), crs=\"EPSG:4326\"\n",
    "    )\n",
    "    # print (\"Convex Hull\")\n",
    "    chull = gdf.geometry.union_all().convex_hull\n",
    "    #display(chull)\n",
    "\n",
    "    if (not polygononly) :\n",
    "        return chull\n",
    "    if len(cluster.index) > 2 and polygononly :\n",
    "        return chull\n",
    "    else :\n",
    "        return None\n",
    "\n",
    "def getCentroid(bycol, id, polygononly):\n",
    "    ## query df_initial for assigned_cluster = id, and make into list, and make into convex hull and add to summary\n",
    "    cluster = df_initial[df_initial[bycol] == id]\n",
    "\n",
    "    # temporarily use geopandas to create a 'geometry' from the coordinates in this cluster so we can call the convexhull method on it\n",
    "    gdf = geopandas.GeoDataFrame(\n",
    "        cluster, geometry=geopandas.points_from_xy(cluster.longitude, cluster.latitude), crs=\"EPSG:4326\"\n",
    "    )\n",
    "    return gdf.geometry.union_all().centroid\n",
    "\n",
    "def getStart(bycol, id):\n",
    "    sortedC = df_initial[df_initial[bycol] == id]\n",
    "    sortedC = sortedC.sort_values(by=[\"datestart\"], ascending=True)\n",
    "    return sortedC['datestart'].values[:1][0]\n",
    "\n",
    "def getEnd(bycol, id):\n",
    "    sortedC = df_initial[df_initial[bycol] == id]\n",
    "    sortedC = sortedC.sort_values(by=[\"dateend\"], ascending=False)\n",
    "    return sortedC['dateend'].values[:1][0]\n",
    "\n",
    "def getCount(bycol, id):\n",
    "    countthis = df_initial[df_initial[bycol] == id]\n",
    "    return len(countthis.index)\n"
   ]
  },
  {
   "cell_type": "markdown",
   "id": "83cd5fca-763c-4e85-8143-3b4019456a1a",
   "metadata": {},
   "source": [
    "<h3>Visualisation</h3>"
   ]
  },
  {
   "cell_type": "code",
   "execution_count": null,
   "id": "94374c94-6c80-45da-a5e2-5018939d1b80",
   "metadata": {},
   "outputs": [],
   "source": [
    "import random\n",
    "import folium\n",
    "from folium import plugins\n",
    "\n",
    "def flipLatLng(ll) :\n",
    "    return (ll[1],ll[0])\n",
    "\n",
    "def showMap(df_initial, summary, keyname, fillpolygon):\n",
    "    \n",
    "    map_center = [df_initial['latitude'].mean(), df_initial['longitude'].mean()]\n",
    "    mapc = folium.Map(location=map_center, zoom_start=4)\n",
    "    \n",
    "    folium.TileLayer(\n",
    "        tiles = 'https://server.arcgisonline.com/ArcGIS/rest/services/World_Imagery/MapServer/tile/{z}/{y}/{x}',\n",
    "        attr = 'Esri',\n",
    "        title = 'Esri Satellite',\n",
    "        overlay = False,\n",
    "        control = True\n",
    "        ).add_to(mapc)\n",
    "\n",
    " \n",
    "        # R < ee, R - 6 < G < R-3, B < G+2\n",
    "    def random_color():\n",
    "        red = ''.join([random.choice('123456789ABCDE') for _ in range(2)])\n",
    "        green = ''.join([random.choice('123456789ABCDE') for _ in range(2)])\n",
    "        blue =  ''.join([random.choice('123456789ABCDE') for _ in range(2)])\n",
    "        return \"#\" + red + green + blue\n",
    "#        return \"#\" + ''.join([random.choice('23456789ABCDE') for _ in range(6)])\n",
    "   \n",
    "\n",
    "    cluster_colors = {cluster: random_color() for cluster in df_initial[keyname].unique()}\n",
    "\n",
    "    # Add polygons\n",
    "\n",
    "    if fillpolygon : \n",
    "        popacity = 0.4\n",
    "    else :\n",
    "        popacity = 0\n",
    "    \n",
    "    for _, row in summary.iterrows():\n",
    "        if (not row[\"wkt\"]) :\n",
    "            continue\n",
    "            \n",
    "        # geopanda, spacey etc generate lat lng in the opposite order to what folium and leaflet assume, so we have to flip the coordinates\n",
    "        locpoly = list(map(flipLatLng, list(row[\"wkt\"].exterior.coords)))\n",
    "        \n",
    "        folium.Polygon(\n",
    "            locations=locpoly,\n",
    "            color='#EEEEEE', #cluster_colors[row['War']],\n",
    "            weight=1,\n",
    "            opacity=1,\n",
    "            line_join='round',\n",
    "            fill_color=cluster_colors[row[keyname]],\n",
    "            fill_opacity=popacity,\n",
    "            fill=True,\n",
    "            popup=f\"<b>Title:</b> {row[keyname]}<br><br>\"\n",
    "                  f\"<b>Count:</b> {row['count']}<br><br>\"\n",
    "                  f\"<b>Centroid:</b> {row['centroid']}<br><br>\"\n",
    "                  f\"<b>Earliest massacre:</b> {row['startdate']}<br><br>\"\n",
    "                  f\"<b>Latest massacre:</b> {row['enddate']}<br><br>\",\n",
    "             #     f\"<b>Temporal Midpoint:</b> {row['temporal_midpoint']}<br><br>\"\n",
    "             #     f\"<b>Spatial Midpoint:</b> {row['spatial_midpoint']}<br><br>\",\n",
    "            tooltip=\"Cluster details\",\n",
    "        ).add_to(mapc)\n",
    "\n",
    "    # \"ghap_id\", \"title\", \"datestart\", \"dateend\", \"linkback\", \"Victims\", \"VictimsDead\", \"Attackers\", \"AttackersDead\", \"count\", \"mbr\", \"earliest_date\", \"latest_date\", \"temporal_midpoint\", \"spatial_midpoint\", \"lat_mid\", \"lon_mid\"\n",
    "    \n",
    "\n",
    "    # Add points colour coded in clusters\n",
    "    for _, row in df_initial.iterrows():\n",
    "        folium.CircleMarker(\n",
    "            location=(row['latitude'], row['longitude']),\n",
    "            radius=5,\n",
    "            color=cluster_colors[row[keyname]],\n",
    "            fill=True,\n",
    "            fill_color=cluster_colors[row[keyname]],\n",
    "            fillOpacity=1,\n",
    "            popup=f\"<b>Site:</b> {row['title']}<br><br>\"\n",
    "                  f\"<b>Lat:</b> {row['latitude']}<br><br>\"\n",
    "                  f\"<b>Lon:</b> {row['longitude']}<br><br>\"\n",
    "                  f\"<b>Date:</b> {row['datestart']}<br><br>\"\n",
    "                  f\"<b>Victims Dead:</b> {row['VictimsDead']}<br><br>\"\n",
    "                  f\"<b>Attackers Dead:</b> {row['AttackersDead']}<br><br>\"\n",
    "                  f\"<b>Assigned Cluster:</b> {row['KNN1']}<br>\"\n",
    "                  f\"<b>Link:</b> <a href='{row['linkback']}' target='_blank'>{row['linkback']}</a><br>\"\n",
    "        ).add_to(mapc)\n",
    "    folium.plugins.Fullscreen(\n",
    "        position=\"topright\",\n",
    "        title=\"Expand me\",\n",
    "        title_cancel=\"Exit me\",\n",
    "        force_separate_button=True,\n",
    "    ).add_to(mapc)\n",
    "    return mapc\n",
    "\n"
   ]
  },
  {
   "cell_type": "markdown",
   "id": "26db05f4-d3af-4a4c-a315-49d7e27cee68",
   "metadata": {},
   "source": [
    "<h2>Results</h2>"
   ]
  },
  {
   "cell_type": "code",
   "execution_count": null,
   "id": "47e0d24a-9569-4868-848b-37d8e4c80fc1",
   "metadata": {},
   "outputs": [],
   "source": [
    "<h3>Wars</h3>"
   ]
  },
  {
   "cell_type": "code",
   "execution_count": null,
   "id": "da24a300-07c6-459e-87ea-a3600b530d13",
   "metadata": {
    "scrolled": true
   },
   "outputs": [],
   "source": [
    "# Go through the spreadsheet, and get each unique key for war, stage, region, period\n",
    "\n",
    "warTitles = df_initial['War'].unique()\n",
    "#display(warTitles)\n",
    "\n",
    "allWars = []\n",
    "\n",
    "for war in warTitles:\n",
    "    #print(war)\n",
    "    #warSites = getConvexHull(\"War\", war, True)\n",
    " #   display(warSites)\n",
    "    allWars.append(\n",
    "        {\n",
    "            'War': war,\n",
    "            'wkt': getConvexHull(\"War\", war, True),\n",
    "            'count': getCount(\"War\", war),\n",
    "            'centroid': getCentroid(\"War\", war, True),\n",
    "            'startdate': getStart(\"War\", war),\n",
    "            'enddate': getEnd(\"War\", war)\n",
    "        }\n",
    "    )\n",
    "\n",
    "df_war = pd.DataFrame(allWars)\n",
    "#display(df_war)\n",
    "#df_initial.head\n",
    "\n",
    "showMap(df_initial, df_war, \"War\", True)\n",
    "\n",
    "\n"
   ]
  },
  {
   "cell_type": "code",
   "execution_count": null,
   "id": "9c454772-ed33-48dd-9df2-f7974a5a4838",
   "metadata": {},
   "outputs": [],
   "source": [
    "<h3>Stages</h3>"
   ]
  },
  {
   "cell_type": "code",
   "execution_count": null,
   "id": "0bc6c8ba-fbe0-4da8-9cb0-9ebf9dfa7d06",
   "metadata": {},
   "outputs": [],
   "source": [
    "# Go through the spreadsheet, and get each unique key for war, stage, region, period\n",
    "\n",
    "stageTitles = df_initial['WarStage'].unique()\n",
    "\n",
    "allStages = []\n",
    "\n",
    "for stage in stageTitles:\n",
    "\n",
    "    allStages.append(\n",
    "        {\n",
    "            'WarStage': stage,\n",
    "            'wkt': getConvexHull(\"WarStage\", stage, False),\n",
    "            'count': getCount(\"WarStage\", stage),\n",
    "            'centroid': getCentroid(\"WarStage\", stage, False),\n",
    "            'startdate': getStart(\"WarStage\", stage),\n",
    "            'enddate': getEnd(\"WarStage\", stage)\n",
    "        }\n",
    "    )\n",
    "\n",
    "df_stage = pd.DataFrame(allStages)\n",
    "\n",
    "#showMap(df_initial, df_stage, \"WarStage\", True)\n"
   ]
  },
  {
   "cell_type": "code",
   "execution_count": null,
   "id": "3d3588c2-7257-4b6e-bdfc-248d12722304",
   "metadata": {},
   "outputs": [],
   "source": [
    "<h3>Regions</h3>"
   ]
  },
  {
   "cell_type": "code",
   "execution_count": null,
   "id": "9c049ec0-05d7-491b-89bb-507f4edbe677",
   "metadata": {},
   "outputs": [],
   "source": [
    "# Go through the spreadsheet, and get each unique key for war, stage, region, period\n",
    "\n",
    "regionTitles = df_initial['Region'].unique()\n",
    "#display(regionTitles)\n",
    "\n",
    "allRegions = []\n",
    "\n",
    "for region in regionTitles:\n",
    "\n",
    "    allRegions.append(\n",
    "        {\n",
    "            'Region': region,\n",
    "            'wkt': getConvexHull(\"Region\", region, True),\n",
    "            'count': getCount(\"Region\", region),\n",
    "            'centroid': getCentroid(\"Region\", region, True),\n",
    "            'startdate': getStart(\"Region\", region),\n",
    "            'enddate': getEnd(\"Region\", region)\n",
    "        }\n",
    "    )\n",
    "\n",
    "df_region = pd.DataFrame(allRegions)\n",
    "\n",
    "showMap(df_initial, df_region, \"Region\", True)\n"
   ]
  },
  {
   "cell_type": "code",
   "execution_count": null,
   "id": "51981bb7-2700-4e3f-b840-9170db498c54",
   "metadata": {},
   "outputs": [],
   "source": [
    "<h3>Periods</h3>"
   ]
  },
  {
   "cell_type": "code",
   "execution_count": null,
   "id": "bad40185-721c-466e-b41b-21928298a72d",
   "metadata": {},
   "outputs": [],
   "source": [
    "# Go through the spreadsheet, and get each unique key for war, stage, region, period\n",
    "\n",
    "periodTitles = df_initial['Period'].unique()\n",
    "display(periodTitles)\n",
    "\n",
    "allPeriods = []\n",
    "\n",
    "for period in periodTitles:\n",
    "\n",
    "    allPeriods.append(\n",
    "        {\n",
    "            'Period': period,\n",
    "            'wkt': getConvexHull(\"Period\", period, True),\n",
    "            'count': getCount(\"Period\", period),\n",
    "            'centroid': getCentroid(\"Period\", period, True),\n",
    "            'startdate': getStart(\"Period\", period),\n",
    "            'enddate': getEnd(\"Period\", period)\n",
    "        }\n",
    "    )\n",
    "\n",
    "df_period = pd.DataFrame(allPeriods)\n",
    "\n",
    "showMap(df_initial, df_period, \"Period\", True)"
   ]
  },
  {
   "cell_type": "markdown",
   "id": "7adb78f8-9557-4431-9a98-5a1e37a0be9e",
   "metadata": {},
   "source": [
    "<h3>Output to file</h3>"
   ]
  },
  {
   "cell_type": "code",
   "execution_count": null,
   "id": "f4dbefc2-50c0-418d-9680-64c2375d05cc",
   "metadata": {
    "scrolled": true
   },
   "outputs": [],
   "source": [
    "# Out to file\n",
    "df_war.to_csv('WarsOut.csv', index=False)\n",
    "gdf = geopandas.GeoDataFrame(\n",
    "    df_war, geometry=\"wkt\"\n",
    ")\n",
    "gdf.to_file(\"WarsOut.json\", driver=\"GeoJSON\")\n",
    "gdf.to_file(\"WarsOut.kml\", driver=\"KML\")\n",
    "\n",
    "df_stage.to_csv('StagesOut.csv', index=False)\n",
    "gdf = geopandas.GeoDataFrame(\n",
    "    df_stage, geometry=\"wkt\"\n",
    ")\n",
    "gdf.to_file(\"StagesOut.json\", driver=\"GeoJSON\")\n",
    "gdf.to_file(\"StagesOut.kml\", driver=\"KML\")\n",
    "\n",
    "df_region.to_csv('RegionsOut.csv', index=False)\n",
    "gdf = geopandas.GeoDataFrame(\n",
    "    df_region, geometry=\"wkt\"\n",
    ")\n",
    "gdf.to_file(\"RegionsOut.json\", driver=\"GeoJSON\")\n",
    "gdf.to_file(\"RegionsOut.kml\", driver=\"KML\")\n",
    "\n",
    "df_period.to_csv('PeriodsOut.csv', index=False)\n",
    "gdf = geopandas.GeoDataFrame(\n",
    "    df_period, geometry=\"wkt\"\n",
    ")\n",
    "gdf.to_file(\"PeriodsOut.json\", driver=\"GeoJSON\")\n",
    "gdf.to_file(\"PeriodsOut.kml\", driver=\"KML\")"
   ]
  },
  {
   "cell_type": "markdown",
   "id": "cd14d5e9-2183-4833-b30a-9f091c7ce928",
   "metadata": {},
   "source": [
    "<b>NOTE: the error \"UserWarning: 'crs' was not provided.\" is a known bug that is difficult to work around. The files with coordinates are output regardless of this message.</b>\n"
   ]
  },
  {
   "cell_type": "code",
   "execution_count": null,
   "id": "2d391b89-c04c-4cde-9736-4f4c4558f584",
   "metadata": {},
   "outputs": [],
   "source": []
  }
 ],
 "metadata": {
  "kernelspec": {
   "display_name": "Python 3 (ipykernel)",
   "language": "python",
   "name": "python3"
  },
  "language_info": {
   "codemirror_mode": {
    "name": "ipython",
    "version": 3
   },
   "file_extension": ".py",
   "mimetype": "text/x-python",
   "name": "python",
   "nbconvert_exporter": "python",
   "pygments_lexer": "ipython3",
   "version": "3.12.8"
  }
 },
 "nbformat": 4,
 "nbformat_minor": 5
}
