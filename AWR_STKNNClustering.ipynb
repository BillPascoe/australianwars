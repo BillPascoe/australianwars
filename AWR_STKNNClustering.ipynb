{
 "cells": [
  {
   "cell_type": "markdown",
   "id": "4e28eeae-89a6-45cd-9cc6-43a28d7b90a8",
   "metadata": {},
   "source": [
    "<h1>K-Nearest Neighbour Clustering Of Massacres For The Identification Of Australian Wars</h1>"
   ]
  },
  {
   "cell_type": "markdown",
   "id": "6d6911d3-c243-4566-89cb-29fae675f6cf",
   "metadata": {},
   "source": [
    "(c) Bill Pascoe and Kaine Usher, 2025\n",
    "\n",
    "This notebook uses the k-nearest neighbour clustering method on data from <i>Colonial Frontier Massacres in Australia, 1788-1930</i> (Ryan et al, 2025) project to help identify Australian Wars.\n",
    "\n",
    "<b>To run this notebook and see the map at the end press the two little triangles that look like a 'fast forward' button.</b>\n",
    "\n",
    "For important information on how to understand this notebook, see the Introduction <a href=\"AWR_Introduction.ipynb\">AWR_Introduction.ipynb</a>.\n"
   ]
  },
  {
   "cell_type": "markdown",
   "id": "0d54c61e-8f30-441c-b121-77c90a90842d",
   "metadata": {},
   "source": [
    "<h3>Parameter Selection</h3>"
   ]
  },
  {
   "cell_type": "markdown",
   "id": "054d7d21-432e-4e79-ad49-568c44f3734c",
   "metadata": {},
   "source": [
    "The most informative clusters of massacres emerge by setting the value of k to be somewhere between 2 and 6. You can change the value of k here. Eg: set to k = 3. Then run the notebook again by pressing the two little triangles button above."
   ]
  },
  {
   "cell_type": "code",
   "execution_count": null,
   "id": "508b1d7a-a791-423d-bd61-6df855aea941",
   "metadata": {},
   "outputs": [],
   "source": [
    "# Enter file path of dataset:\n",
    "file_path = \"CMassacres_TLCM_20250314.csv\"\n",
    "\n",
    "# Enter number of nearest neighbours:\n",
    "k = 2"
   ]
  },
  {
   "cell_type": "markdown",
   "id": "5c18feff-cb38-43db-b51d-ccf139d1f4d6",
   "metadata": {},
   "source": [
    "<h3>STKNN Clustering/Aggregation Code</h3>"
   ]
  },
  {
   "cell_type": "markdown",
   "id": "f211de47-b040-4c9f-8c8c-71d16d47b496",
   "metadata": {},
   "source": [
    "The block below contains the code necessary for STKNN clustering/aggregating the data based on the k parameter you assigned. You do not need to change anything - simply run it as is."
   ]
  },
  {
   "cell_type": "code",
   "execution_count": null,
   "id": "c9069497-e769-46db-87b0-f58dacd48a74",
   "metadata": {},
   "outputs": [],
   "source": [
    "import pandas as pd\n",
    "df_initial = pd.read_csv(file_path)\n",
    "\n",
    "df = df_initial.filter([\"ghap_id\", \"title\", \"description\", \"latitude\", \"longitude\", \"datestart\", \"dateend\", \"linkback\", \"Victims\", \"VictimsDead\", \"Attackers\", \"AttackersDead\", \"MassacreGroup\"], axis=1)\n",
    "df[\"ghap_id\"] = df[\"ghap_id\"].astype(str)\n",
    "\n",
    "from geojikuu.preprocessing.projection import MGA2020Projector\n",
    "mga_2020_projector = MGA2020Projector(\"wgs84\")\n",
    "results = mga_2020_projector.project(list(zip(df[\"latitude\"], df[\"longitude\"])))\n",
    "df[\"mga_2020\"] = results[\"mga2020_coordinates\"]\n",
    "unit_conversion = results[\"unit_conversion\"]\n",
    "\n",
    "from geojikuu.preprocessing.conversion_tools import DateConvertor\n",
    "date_convertor = DateConvertor(date_format_in=\"%Y-%m-%d\", date_format_out=\"%Y-%m-%d\")\n",
    "df['date_converted'] = df['datestart'].apply(date_convertor.date_to_days)\n",
    "\n",
    "from geojikuu.aggregation.point_aggregators import STKNearestNeighbours\n",
    "st_knn = STKNearestNeighbours(data=df, coordinate_label=\"mga_2020\", time_label=\"date_converted\")\n",
    "results = st_knn.aggregate(k=k, aggregate_type=\"mean\")\n",
    "\n",
    "results[[\"earliest_date\", \"latest_date\"]] = results[\"temporal_extent\"].str.replace('[()]', '', regex=True).str.split(',', expand=True).astype(int)\n",
    "results[\"earliest_date\"] = results['earliest_date'].apply(date_convertor.days_to_date)\n",
    "results[\"latest_date\"] = results['latest_date'].apply(date_convertor.days_to_date)\n",
    "results[\"temporal_midpoint\"] = results['date_converted'].apply(date_convertor.days_to_date)\n",
    "\n"
   ]
  },
  {
   "cell_type": "code",
   "execution_count": null,
   "id": "c348f631-4f9c-4767-bd38-a47d153d02a2",
   "metadata": {},
   "outputs": [],
   "source": [
    "\n",
    "\n",
    "results[\"spatial_midpoint\"] = mga_2020_projector.inverse_project(results[\"midpoint\"])\n",
    "results[[\"lat_mid\", \"lon_mid\"]] = results[\"spatial_midpoint\"].astype(str).str.replace('[()]', '', regex=True).str.split(',', expand=True).astype(float)\n",
    "results[\"mbr\"] = results['mbr'] * unit_conversion\n",
    "\n",
    "results = results.drop([\"latitude\", \"longitude\", \"date_converted\", \"midpoint\", \"temporal_extent\"], axis=1)"
   ]
  },
  {
   "cell_type": "markdown",
   "id": "d7619151-09ff-4427-8bfe-bfdbad1bd29c",
   "metadata": {},
   "source": [
    "<h3>Output</h3>"
   ]
  },
  {
   "cell_type": "markdown",
   "id": "b9557c93-93c6-40e3-b7a1-745d095ae130",
   "metadata": {},
   "source": [
    "The results can be output to a file for download and further processing.\n",
    "The output files are in the same directory as this notebook.\n",
    "The first few lines of the data are shown on screen."
   ]
  },
  {
   "cell_type": "markdown",
   "id": "e934b5e4-b561-4338-89e8-9c1d919e5820",
   "metadata": {},
   "source": [
    "<h4>stknn_clusters.csv output</h4>"
   ]
  },
  {
   "cell_type": "code",
   "execution_count": null,
   "id": "fbb17032-4199-4796-8916-c6349541eece",
   "metadata": {},
   "outputs": [],
   "source": [
    "results.to_csv('stknn_clusters_' + str(k) + '.csv')\n",
    "results.head()"
   ]
  },
  {
   "cell_type": "code",
   "execution_count": null,
   "id": "0c80c1aa-a03c-4729-9917-083a822ccf4d",
   "metadata": {},
   "outputs": [],
   "source": [
    "\n",
    "import geopandas\n",
    "\n",
    "def getConvexHull(id, polygononly):\n",
    "    ## query df_initial for assigned_cluster = id, and make into list, and make into convex hull and add to summary\n",
    "    cluster = df_initial[df_initial[\"assigned_cluster\"] == id]\n",
    "\n",
    "\n",
    "    # temporarily use geopandas to create a 'geometry' from the coordinates in this cluster so we can call the convexhull method on it\n",
    "    gdf = geopandas.GeoDataFrame(\n",
    "        cluster, geometry=geopandas.points_from_xy(cluster.longitude, cluster.latitude), crs=\"EPSG:4326\"\n",
    "    )\n",
    "    # print (\"Convex Hull\")\n",
    "    chull = gdf.geometry.union_all().convex_hull\n",
    "    #display(chull)\n",
    "\n",
    "    \n",
    "    if len(cluster.index) > 2 and polygononly :\n",
    "        print(\"Cluster \" + str(id) + \" has \" + str(len(cluster.index)) + \" sites.\")\n",
    "        return chull\n",
    "    else :\n",
    "        return None"
   ]
  },
  {
   "cell_type": "markdown",
   "id": "e60d0cea-0d2f-4e3d-97dc-c1b3ce5f1ede",
   "metadata": {},
   "source": [
    "<h4>output</h4>"
   ]
  },
  {
   "cell_type": "code",
   "execution_count": null,
   "id": "40b65582-9b2b-4750-8bf8-26cfcfe94596",
   "metadata": {},
   "outputs": [],
   "source": [
    "def find_index(id):\n",
    "    for idx, ids in results['ghap_id'].items():\n",
    "        id_list = ids.split(', ')\n",
    "        if str(id) in id_list:\n",
    "            return idx\n",
    "    return None\n",
    "\n",
    "df_initial['assigned_cluster'] = df_initial['ghap_id'].apply(find_index)\n",
    "\n",
    "\n",
    "# preparing cluster summary and polygon\n",
    "polygononly = True\n",
    "clusterSummary = results.filter([\"ghap_id\", \"title\", \"datestart\", \"dateend\", \"linkback\", \"Victims\", \"VictimsDead\", \"Attackers\", \"AttackersDead\", \"count\", \"mbr\", \"earliest_date\", \"latest_date\", \"temporal_midpoint\", \"spatial_midpoint\", \"lat_mid\", \"lon_mid\"], axis=1)\n",
    "clusterSummary['cluster_id'] = clusterSummary.index\n",
    "clusterSummary['convex_hull'] = clusterSummary['cluster_id'].apply(getConvexHull, args = (polygononly,))\n",
    "\n",
    "clusterSummary = clusterSummary[clusterSummary['convex_hull'].notnull()]\n",
    "\n",
    "df_initial.to_csv('colfront_stknn_labelled_' + str(k) + '.csv')\n",
    "df_initial.head()"
   ]
  },
  {
   "cell_type": "markdown",
   "id": "a6267359-b320-4b1f-9b58-2e895afd34f4",
   "metadata": {},
   "source": [
    "<h3>Visualisation</h3>"
   ]
  },
  {
   "cell_type": "code",
   "execution_count": null,
   "id": "32c136af-4f48-4983-bc36-0e36f47e8b56",
   "metadata": {},
   "outputs": [],
   "source": [
    "import random\n",
    "import folium\n",
    "\n",
    "def flipLatLng(ll) :\n",
    "    return (ll[1],ll[0])\n",
    "\n",
    "map_center = [df_initial['latitude'].mean(), df_initial['longitude'].mean()]\n",
    "mapc = folium.Map(location=map_center, zoom_start=4)\n",
    "\n",
    "folium.TileLayer(\n",
    "    tiles = 'https://server.arcgisonline.com/ArcGIS/rest/services/World_Imagery/MapServer/tile/{z}/{y}/{x}',\n",
    "    attr = 'Esri',\n",
    "    name = 'Esri Satellite',\n",
    "    overlay = False,\n",
    "    control = True\n",
    "    ).add_to(mapc)\n",
    "\n",
    "def random_color():\n",
    "    return \"#\" + ''.join([random.choice('0123456789ABCDEF') for _ in range(6)])\n",
    "\n",
    "cluster_colors = {cluster: random_color() for cluster in df_initial['assigned_cluster'].unique()}\n",
    "\n",
    "\n",
    "# Add polygons\n",
    "fillpolygon = False;\n",
    "if fillpolygon : \n",
    "    popacity = 0.4\n",
    "else :\n",
    "    popacity = 0\n",
    "\n",
    "for _, row in clusterSummary.iterrows():\n",
    "    \n",
    "    # geopanda, spacey etc generate lat lng in the opposite order to what folium and leaflet assume, so we have to flip the coordinates\n",
    "    locpoly = list(map(flipLatLng, list(row[\"convex_hull\"].exterior.coords)))\n",
    "    \n",
    "    folium.Polygon(\n",
    "        locations=locpoly,\n",
    "        color=cluster_colors[row['cluster_id']],\n",
    "        weight=12,\n",
    "        opacity=0.2,\n",
    "        line_join='round',\n",
    "        fill_color=cluster_colors[row['cluster_id']],\n",
    "        fill_opacity=popacity,\n",
    "        fill=True,\n",
    "        popup=f\"<b>Cluster:</b> {row['cluster_id']}<br><br>\"\n",
    "              f\"<b>Count:</b> {row['count']}<br><br>\"\n",
    "              f\"<b>MBR:</b> {row['mbr']}<br><br>\"\n",
    "              f\"<b>Earliest massacre:</b> {row['earliest_date']}<br><br>\"\n",
    "              f\"<b>Latest massacre:</b> {row['latest_date']}<br><br>\"\n",
    "              f\"<b>Temporal Midpoint:</b> {row['temporal_midpoint']}<br><br>\"\n",
    "              f\"<b>Spatial Midpoint:</b> {row['spatial_midpoint']}<br><br>\",\n",
    "        tooltip=\"Cluster details\",\n",
    "    ).add_to(mapc)\n",
    "\n",
    "# add points\n",
    "for _, row in df_initial.iterrows():\n",
    "    folium.CircleMarker(\n",
    "        location=(row['latitude'], row['longitude']),\n",
    "        radius=5,\n",
    "        color=cluster_colors[row['assigned_cluster']],\n",
    "        fill=True,\n",
    "        fill_color=cluster_colors[row['assigned_cluster']],\n",
    "        fillOpacity=1,\n",
    "        popup=f\"<b>Site:</b> {row['title']}<br><br>\"\n",
    "                  f\"<b>Lat:</b> {row['latitude']}<br><br>\"\n",
    "                  f\"<b>Lon:</b> {row['longitude']}<br><br>\"\n",
    "                  f\"<b>Date:</b> {row['datestart']}<br><br>\"\n",
    "                  f\"<b>Victims Dead:</b> {row['VictimsDead']}<br><br>\"\n",
    "                  f\"<b>Attackers Dead:</b> {row['AttackersDead']}<br><br>\"\n",
    "                  f\"<b>Assigned Cluster:</b> {row['assigned_cluster']}<br>\"\n",
    "                  f\"<b>Link:</b> <a href='{row['linkback']}' target='_blank'>{row['linkback']}</a><br>\"\n",
    "        ).add_to(mapc)\n",
    "mapc"
   ]
  },
  {
   "cell_type": "code",
   "execution_count": null,
   "id": "b71037d1-3148-4ad0-8958-165130448ab1",
   "metadata": {},
   "outputs": [],
   "source": []
  }
 ],
 "metadata": {
  "kernelspec": {
   "display_name": "Python 3 (ipykernel)",
   "language": "python",
   "name": "python3"
  },
  "language_info": {
   "codemirror_mode": {
    "name": "ipython",
    "version": 3
   },
   "file_extension": ".py",
   "mimetype": "text/x-python",
   "name": "python",
   "nbconvert_exporter": "python",
   "pygments_lexer": "ipython3",
   "version": "3.12.8"
  }
 },
 "nbformat": 4,
 "nbformat_minor": 5
}
